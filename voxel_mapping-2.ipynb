{
 "cells": [
  {
   "cell_type": "markdown",
   "id": "c2cf1761",
   "metadata": {},
   "source": [
    "Assigning voxels in PET image at each timepoint based on the midpoint regions"
   ]
  },
  {
   "cell_type": "code",
   "execution_count": 1,
   "id": "5635d750",
   "metadata": {},
   "outputs": [],
   "source": [
    "import numpy as np\n",
    "import numpy.ma as ma\n",
    "import matplotlib.pyplot as plt\n",
    "import pandas as pd\n",
    "# print arrays to 4 decimal places\n",
    "np.set_printoptions(precision=4, suppress=True)\n",
    "import numpy.linalg as npl\n",
    "import nibabel as nib\n",
    "from nibabel.affines import apply_affine"
   ]
  },
  {
   "cell_type": "markdown",
   "id": "87ed2faa",
   "metadata": {},
   "source": [
    "Set params for pyplot"
   ]
  },
  {
   "cell_type": "code",
   "execution_count": 2,
   "id": "e06dc31a",
   "metadata": {},
   "outputs": [],
   "source": [
    "#plt.rcParams['image.cmap'] = 'gray'\n",
    "plt.rcParams['image.interpolation'] = 'nearest'"
   ]
  },
  {
   "cell_type": "markdown",
   "id": "1af077e0",
   "metadata": {},
   "source": [
    "load deformation field which for each voxel in midpoint T1 space, has corresponding voxel scanner space coordinates in mm (x,y,z). Loading midpoint -> baseline pet first. "
   ]
  },
  {
   "cell_type": "code",
   "execution_count": 3,
   "id": "b3587fa7",
   "metadata": {},
   "outputs": [
    {
     "data": {
      "text/plain": [
       "(216, 278, 280, 1, 3)"
      ]
     },
     "execution_count": 3,
     "metadata": {},
     "output_type": "execute_result"
    }
   ],
   "source": [
    "mid_to_bl_img = nib.load('data/sub-10015124_midpoint-spm_to_baseline-pet_def.nii.gz')\n",
    "mid_to_bl_data = mid_to_bl_img.get_fdata()\n",
    "mid_to_bl_data.shape\n",
    "\n",
    "mid_to_fu_img = nib.load('data/sub-10015124_midpoint-spm_to_followup-pet_def.nii.gz')\n",
    "mid_to_fu_data = mid_to_fu_img.get_fdata()\n",
    "mid_to_fu_data.shape"
   ]
  },
  {
   "cell_type": "markdown",
   "id": "53439ec0",
   "metadata": {},
   "source": [
    "remove extra 4th dim of '1'. This is just some artefact of nifti format"
   ]
  },
  {
   "cell_type": "code",
   "execution_count": 4,
   "id": "d168bfa9",
   "metadata": {},
   "outputs": [
    {
     "data": {
      "text/plain": [
       "(216, 278, 280, 3)"
      ]
     },
     "execution_count": 4,
     "metadata": {},
     "output_type": "execute_result"
    }
   ],
   "source": [
    "mid_to_bl_data = np.squeeze(mid_to_bl_data)\n",
    "mid_to_bl_data.shape\n",
    "\n",
    "mid_to_fu_data = np.squeeze(mid_to_fu_data)\n",
    "mid_to_fu_data.shape"
   ]
  },
  {
   "cell_type": "markdown",
   "id": "c6d6cc10",
   "metadata": {},
   "source": [
    "load midpoint GIF labels\n",
    "whole cerebellum roi GIF indices\n"
   ]
  },
  {
   "cell_type": "code",
   "execution_count": 5,
   "id": "80179202",
   "metadata": {},
   "outputs": [
    {
     "data": {
      "text/plain": [
       "(216, 278, 280)"
      ]
     },
     "execution_count": 5,
     "metadata": {},
     "output_type": "execute_result"
    }
   ],
   "source": [
    "mid_lab_img = nib.load('data/sub-10015124_ses-midpoint_T1w_run-1_desc-gradwarp_spm-midpoint_labels_masked.nii.gz')\n",
    "mid_lab_data = mid_lab_img.get_fdata()\n",
    "mid_lab_data.shape"
   ]
  },
  {
   "cell_type": "markdown",
   "id": "0763b35a",
   "metadata": {},
   "source": [
    "make mask from cerebellum gif labels\n",
    "whole cerebellum roi GIF indices: 39,40,41,42,72,73,74"
   ]
  },
  {
   "cell_type": "code",
   "execution_count": 6,
   "id": "084cdc7b",
   "metadata": {},
   "outputs": [],
   "source": [
    "ref_roi_ind = [39,40,41,42,72,73,74]"
   ]
  },
  {
   "cell_type": "code",
   "execution_count": 7,
   "id": "38b419fa",
   "metadata": {},
   "outputs": [],
   "source": [
    "ref_roi_mask = ((mid_lab_data == 39) | \n",
    "                (mid_lab_data == 40) | \n",
    "                (mid_lab_data == 41) | \n",
    "                (mid_lab_data == 42) | \n",
    "                (mid_lab_data == 72) | \n",
    "                (mid_lab_data == 73) | \n",
    "                (mid_lab_data == 74))"
   ]
  },
  {
   "cell_type": "markdown",
   "id": "93ec22f6",
   "metadata": {},
   "source": [
    "try creating masked array"
   ]
  },
  {
   "cell_type": "code",
   "execution_count": 8,
   "id": "2b7f727f",
   "metadata": {},
   "outputs": [
    {
     "data": {
      "text/plain": [
       "<matplotlib.image.AxesImage at 0x13d881220>"
      ]
     },
     "execution_count": 8,
     "metadata": {},
     "output_type": "execute_result"
    },
    {
     "data": {
      "image/png": "[encoded data removed]",
      "text/plain": [
       "<Figure size 720x360 with 2 Axes>"
      ]
     },
     "metadata": {
      "needs_background": "light"
     },
     "output_type": "display_data"
    }
   ],
   "source": [
    "fig, axes = plt.subplots(1, 2, figsize=(10, 5))\n",
    "axes[0].imshow(mid_lab_data[:, 100, :])\n",
    "axes[1].imshow(ref_roi_mask[:, 100, :])"
   ]
  },
  {
   "cell_type": "markdown",
   "id": "c11c4f71",
   "metadata": {},
   "source": [
    "get shape of roi"
   ]
  },
  {
   "cell_type": "markdown",
   "id": "18c79205",
   "metadata": {},
   "source": [
    "Iterate over voxels in mask and label them from 1 to n"
   ]
  },
  {
   "cell_type": "code",
   "execution_count": 9,
   "id": "5f88eb30",
   "metadata": {},
   "outputs": [],
   "source": [
    "n=1\n",
    "\n",
    "# create version of mask that isn't bool\n",
    "ref_roi_mask_int = np.array(ref_roi_mask, dtype = int)\n",
    "\n",
    "#iterate adding 1\n",
    "with np.nditer(ref_roi_mask_int, op_flags=['readwrite']) as it:\n",
    "    for vox in it:\n",
    "        if vox==1:\n",
    "            vox[...] = int(n)\n",
    "            n=int(n)+1  "
   ]
  },
  {
   "cell_type": "code",
   "execution_count": 10,
   "id": "67b06903",
   "metadata": {},
   "outputs": [
    {
     "data": {
      "text/plain": [
       "<matplotlib.image.AxesImage at 0x13da0c040>"
      ]
     },
     "execution_count": 10,
     "metadata": {},
     "output_type": "execute_result"
    },
    {
     "data": {
      "image/png": "[encoded data removed]",
      "text/plain": [
       "<Figure size 720x360 with 2 Axes>"
      ]
     },
     "metadata": {
      "needs_background": "light"
     },
     "output_type": "display_data"
    }
   ],
   "source": [
    "fig, axes = plt.subplots(1, 2, figsize=(10, 5))\n",
    "axes[0].imshow(mid_lab_data[:, 100, :])\n",
    "axes[1].imshow(ref_roi_mask_int[:, 100, :])"
   ]
  },
  {
   "cell_type": "markdown",
   "id": "1175c1fb",
   "metadata": {},
   "source": [
    "Load baseline PET image"
   ]
  },
  {
   "cell_type": "code",
   "execution_count": 11,
   "id": "b084d94d",
   "metadata": {},
   "outputs": [
    {
     "data": {
      "text/plain": [
       "array([[  -2.0863,    0.    ,    0.    ,  358.8367],\n",
       "       [   0.    ,    2.0863,    0.    , -356.7505],\n",
       "       [   0.    ,    0.    ,    2.0312, -135.9531],\n",
       "       [   0.    ,    0.    ,    0.    ,    1.    ]])"
      ]
     },
     "execution_count": 11,
     "metadata": {},
     "output_type": "execute_result"
    }
   ],
   "source": [
    "bl_pet_img = nib.load('data/sub-10015124_ses-baseline_desc-static-50-60-pct-niftypet-itr4.nii.gz')\n",
    "bl_pet_data = bl_pet_img.get_fdata()\n",
    "bl_pet_img.affine\n",
    "\n",
    "fu_pet_img = nib.load('data/sub-10015124_ses-followup_desc-static-50-60-pct-niftypet-itr4.nii.gz')\n",
    "fu_pet_data = fu_pet_img.get_fdata()\n",
    "fu_pet_img.affine"
   ]
  },
  {
   "cell_type": "code",
   "execution_count": 12,
   "id": "55caa3ad",
   "metadata": {},
   "outputs": [],
   "source": [
    "def get_mm_def(def_data,i,j,k):\n",
    "    x_mm = def_data[i,j,k,0]\n",
    "    y_mm = def_data[i,j,k,1]\n",
    "    z_mm = def_data[i,j,k,2]\n",
    "    return [x_mm,y_mm,z_mm]\n",
    "\n",
    "def vox2mm(img,i, j, k):\n",
    "    M = img.affine[:3, :3]\n",
    "    abc = img.affine[:3, 3]\n",
    "    \"\"\" Return X, Y, Z coordinates for i, j, k \"\"\"\n",
    "    return M.dot([i, j, k]) + abc\n",
    "\n",
    "\n",
    "def mm2vox(img,x, y, z):\n",
    "    M = npl.inv(img.affine)[:3, :3]\n",
    "    abc = npl.inv(img.affine)[:3, 3]\n",
    "    \"\"\" Return i, j, k coordinates for x, y, z\"\"\"\n",
    "    vox_array = M.dot([x, y, z]) + abc\n",
    "    return np.round(vox_array)"
   ]
  },
  {
   "cell_type": "markdown",
   "id": "33df2615",
   "metadata": {},
   "source": [
    "get voxel coordinate for each labelled voxel"
   ]
  },
  {
   "cell_type": "code",
   "execution_count": null,
   "id": "038095f3",
   "metadata": {},
   "outputs": [
    {
     "name": "stdout",
     "output_type": "stream",
     "text": [
      "number of voxels in region: 99569\n"
     ]
    }
   ],
   "source": [
    "nvox=np.count_nonzero(ref_roi_mask_int)\n",
    "print('number of voxels in region: ' + str(nvox))\n",
    "n=1\n",
    "\n",
    "roi_dict = {}\n",
    "bl_dict = {}\n",
    "fu_dict = {}\n",
    "while n <= nvox:\n",
    "    coord = np.nonzero(ref_roi_mask_int == n)\n",
    "    i,j,k = coord\n",
    "    x_mm,y_mm,z_mm = get_mm_def(mid_to_bl_data,int(i),int(j),int(k))\n",
    "    bl_i,bl_j,bl_k = mm2vox(bl_pet_img,x_mm,y_mm,z_mm)\n",
    "    x_mm,y_mm,z_mm = get_mm_def(mid_to_fu_data,int(i),int(j),int(k))\n",
    "    fu_i,fu_j,fu_k = mm2vox(fu_pet_img,x_mm,y_mm,z_mm)\n",
    "    #print('baseline PET for voxel '+str(n)+' is: '+str(bl_pet_vox))\n",
    "    #print('followup PET for voxel '+str(n)+' is: '+str(fu_pet_vox))\n",
    "    \n",
    "    vox_tup = ([int(bl_i),int(bl_j),int(bl_k)],[int(fu_i),int(fu_j),int(fu_k)])\n",
    "    if vox_tup not in roi_dict.values():\n",
    "        #print('unique combination')\n",
    "        bl_tup = ([int(bl_i),int(bl_j),int(bl_k)])\n",
    "        fu_tup = ([int(fu_i),int(fu_j),int(fu_k)])\n",
    "        if bl_tup not in bl_dict.values() and fu_tup not in fu_dict.values():\n",
    "            roi_dict.update({str(n) : vox_tup})\n",
    "            bl_dict.update({str(n) : bl_tup})\n",
    "            fu_dict.update({str(n) : fu_tup})\n",
    "            #print('added to dict')\n",
    "        #else:\n",
    "            #print('baseline or followup voxel already used')\n",
    "    #else:\n",
    "        #print('duplicate')\n",
    "    \n",
    "    n=n+1"
   ]
  },
  {
   "cell_type": "code",
   "execution_count": 27,
   "id": "d027d4c8",
   "metadata": {},
   "outputs": [
    {
     "data": {
      "text/plain": [
       "{'1': ([177.0, 161.0, 7.0], [175.0, 162.0, 22.0]),\n",
       " '2': ([177.0, 164.0, 7.0], [175.0, 164.0, 22.0]),\n",
       " '4': ([174.0, 160.0, 7.0], [172.0, 161.0, 22.0]),\n",
       " '5': ([173.0, 160.0, 7.0], [171.0, 161.0, 22.0]),\n",
       " '9': ([172.0, 161.0, 7.0], [170.0, 161.0, 22.0]),\n",
       " '10': ([178.0, 161.0, 7.0], [176.0, 162.0, 22.0]),\n",
       " '12': ([176.0, 161.0, 7.0], [174.0, 162.0, 22.0]),\n",
       " '13': ([174.0, 161.0, 7.0], [172.0, 162.0, 22.0]),\n",
       " '14': ([173.0, 161.0, 7.0], [171.0, 162.0, 22.0]),\n",
       " '18': ([171.0, 161.0, 7.0], [169.0, 162.0, 22.0]),\n",
       " '26': ([171.0, 162.0, 7.0], [168.0, 162.0, 22.0]),\n",
       " '27': ([177.0, 163.0, 7.0], [175.0, 163.0, 22.0]),\n",
       " '29': ([176.0, 162.0, 7.0], [174.0, 163.0, 22.0]),\n",
       " '31': ([174.0, 162.0, 7.0], [172.0, 163.0, 22.0]),\n",
       " '32': ([173.0, 162.0, 7.0], [171.0, 163.0, 22.0]),\n",
       " '34': ([172.0, 162.0, 7.0], [170.0, 163.0, 22.0]),\n",
       " '37': ([170.0, 162.0, 7.0], [168.0, 163.0, 22.0]),\n",
       " '39': ([178.0, 163.0, 7.0], [176.0, 163.0, 22.0]),\n",
       " '49': ([171.0, 163.0, 7.0], [169.0, 163.0, 22.0]),\n",
       " '53': ([178.0, 164.0, 7.0], [176.0, 164.0, 22.0]),\n",
       " '57': ([176.0, 163.0, 7.0], [174.0, 164.0, 22.0]),\n",
       " '59': ([174.0, 163.0, 7.0], [172.0, 164.0, 22.0]),\n",
       " '60': ([173.0, 163.0, 7.0], [171.0, 164.0, 22.0]),\n",
       " '61': ([172.0, 163.0, 7.0], [170.0, 164.0, 22.0]),\n",
       " '65': ([170.0, 163.0, 7.0], [168.0, 164.0, 22.0]),\n",
       " '67': ([169.0, 163.0, 7.0], [167.0, 164.0, 22.0]),\n",
       " '78': ([171.0, 164.0, 7.0], [169.0, 164.0, 22.0])}"
      ]
     },
     "execution_count": 27,
     "metadata": {},
     "output_type": "execute_result"
    }
   ],
   "source": [
    "roi_dict"
   ]
  },
  {
   "cell_type": "code",
   "execution_count": null,
   "id": "d5ef06e9",
   "metadata": {},
   "outputs": [],
   "source": []
  },
  {
   "cell_type": "code",
   "execution_count": null,
   "id": "593113c6",
   "metadata": {},
   "outputs": [],
   "source": []
  },
  {
   "cell_type": "code",
   "execution_count": null,
   "id": "dc8ea194",
   "metadata": {},
   "outputs": [],
   "source": []
  },
  {
   "cell_type": "code",
   "execution_count": null,
   "id": "b81fa2c9",
   "metadata": {},
   "outputs": [],
   "source": []
  },
  {
   "cell_type": "code",
   "execution_count": null,
   "id": "1b28a5d6",
   "metadata": {},
   "outputs": [],
   "source": []
  },
  {
   "cell_type": "code",
   "execution_count": null,
   "id": "f63e8d49",
   "metadata": {},
   "outputs": [],
   "source": []
  },
  {
   "cell_type": "code",
   "execution_count": null,
   "id": "e898fa14",
   "metadata": {},
   "outputs": [],
   "source": []
  }
 ],
 "metadata": {
  "kernelspec": {
   "display_name": "Python 3 (ipykernel)",
   "language": "python",
   "name": "python3"
  },
  "language_info": {
   "codemirror_mode": {
    "name": "ipython",
    "version": 3
   },
   "file_extension": ".py",
   "mimetype": "text/x-python",
   "name": "python",
   "nbconvert_exporter": "python",
   "pygments_lexer": "ipython3",
   "version": "3.9.7"
  }
 },
 "nbformat": 4,
 "nbformat_minor": 5
}
